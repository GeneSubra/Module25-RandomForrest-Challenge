{
 "cells": [
  {
   "cell_type": "code",
   "execution_count": 2,
   "metadata": {},
   "outputs": [],
   "source": [
    "# In this workbook, We're going to demonstrate how to make predictions \n",
    "# on the medical cost dataset from an insurance company."
   ]
  },
  {
   "cell_type": "code",
   "execution_count": 3,
   "metadata": {},
   "outputs": [],
   "source": [
    "import matplotlib.pyplot as plt\n",
    "import numpy as np\n",
    "import pandas as pd\n",
    "from sklearn.linear_model import LinearRegression\n",
    "from sklearn.model_selection import train_test_split\n",
    "from sklearn.metrics import mean_absolute_error\n",
    "import statsmodels.api as sm\n",
    "from statsmodels.tools.eval_measures import mse, rmse\n",
    "from sqlalchemy import create_engine\n",
    "import seaborn as sns\n",
    "# Display preferences.\n",
    "%matplotlib inline\n",
    "pd.options.display.float_format = '{:.3f}'.format\n",
    "\n",
    "import warnings\n",
    "warnings.filterwarnings(action=\"ignore\")"
   ]
  },
  {
   "cell_type": "code",
   "execution_count": 4,
   "metadata": {},
   "outputs": [],
   "source": [
    "postgres_user = 'dsbc_student'\n",
    "postgres_pw = '7*.8G9QH21'\n",
    "postgres_host = '142.93.121.174'\n",
    "postgres_port = '5432'\n",
    "postgres_db = 'medicalcosts'\n",
    "\n",
    "engine = create_engine('postgresql://{}:{}@{}:{}/{}'.format(\n",
    "    postgres_user, postgres_pw, postgres_host, postgres_port, postgres_db))\n",
    "\n",
    "md_df = pd.read_sql_query('select * from medicalcosts',con=engine)\n",
    "\n",
    "# no need for an open connection, as we're only doing a single query\n",
    "engine.dispose()"
   ]
  },
  {
   "cell_type": "code",
   "execution_count": 5,
   "metadata": {},
   "outputs": [
    {
     "data": {
      "text/html": [
       "<div>\n",
       "<style scoped>\n",
       "    .dataframe tbody tr th:only-of-type {\n",
       "        vertical-align: middle;\n",
       "    }\n",
       "\n",
       "    .dataframe tbody tr th {\n",
       "        vertical-align: top;\n",
       "    }\n",
       "\n",
       "    .dataframe thead th {\n",
       "        text-align: right;\n",
       "    }\n",
       "</style>\n",
       "<table border=\"1\" class=\"dataframe\">\n",
       "  <thead>\n",
       "    <tr style=\"text-align: right;\">\n",
       "      <th></th>\n",
       "      <th>age</th>\n",
       "      <th>sex</th>\n",
       "      <th>bmi</th>\n",
       "      <th>children</th>\n",
       "      <th>smoker</th>\n",
       "      <th>region</th>\n",
       "      <th>charges</th>\n",
       "    </tr>\n",
       "  </thead>\n",
       "  <tbody>\n",
       "    <tr>\n",
       "      <th>0</th>\n",
       "      <td>19</td>\n",
       "      <td>female</td>\n",
       "      <td>27.900</td>\n",
       "      <td>0</td>\n",
       "      <td>yes</td>\n",
       "      <td>southwest</td>\n",
       "      <td>16884.900</td>\n",
       "    </tr>\n",
       "    <tr>\n",
       "      <th>1</th>\n",
       "      <td>18</td>\n",
       "      <td>male</td>\n",
       "      <td>33.770</td>\n",
       "      <td>1</td>\n",
       "      <td>no</td>\n",
       "      <td>southeast</td>\n",
       "      <td>1725.550</td>\n",
       "    </tr>\n",
       "    <tr>\n",
       "      <th>2</th>\n",
       "      <td>28</td>\n",
       "      <td>male</td>\n",
       "      <td>33.000</td>\n",
       "      <td>3</td>\n",
       "      <td>no</td>\n",
       "      <td>southeast</td>\n",
       "      <td>4449.460</td>\n",
       "    </tr>\n",
       "    <tr>\n",
       "      <th>3</th>\n",
       "      <td>33</td>\n",
       "      <td>male</td>\n",
       "      <td>22.705</td>\n",
       "      <td>0</td>\n",
       "      <td>no</td>\n",
       "      <td>northwest</td>\n",
       "      <td>21984.500</td>\n",
       "    </tr>\n",
       "    <tr>\n",
       "      <th>4</th>\n",
       "      <td>32</td>\n",
       "      <td>male</td>\n",
       "      <td>28.880</td>\n",
       "      <td>0</td>\n",
       "      <td>no</td>\n",
       "      <td>northwest</td>\n",
       "      <td>3866.860</td>\n",
       "    </tr>\n",
       "  </tbody>\n",
       "</table>\n",
       "</div>"
      ],
      "text/plain": [
       "   age     sex    bmi  children smoker     region   charges\n",
       "0   19  female 27.900         0    yes  southwest 16884.900\n",
       "1   18    male 33.770         1     no  southeast  1725.550\n",
       "2   28    male 33.000         3     no  southeast  4449.460\n",
       "3   33    male 22.705         0     no  northwest 21984.500\n",
       "4   32    male 28.880         0     no  northwest  3866.860"
      ]
     },
     "execution_count": 5,
     "metadata": {},
     "output_type": "execute_result"
    }
   ],
   "source": [
    "md_df.head()"
   ]
  },
  {
   "cell_type": "code",
   "execution_count": 6,
   "metadata": {},
   "outputs": [
    {
     "data": {
      "text/html": [
       "<div>\n",
       "<style scoped>\n",
       "    .dataframe tbody tr th:only-of-type {\n",
       "        vertical-align: middle;\n",
       "    }\n",
       "\n",
       "    .dataframe tbody tr th {\n",
       "        vertical-align: top;\n",
       "    }\n",
       "\n",
       "    .dataframe thead th {\n",
       "        text-align: right;\n",
       "    }\n",
       "</style>\n",
       "<table border=\"1\" class=\"dataframe\">\n",
       "  <thead>\n",
       "    <tr style=\"text-align: right;\">\n",
       "      <th></th>\n",
       "      <th>age</th>\n",
       "      <th>bmi</th>\n",
       "      <th>children</th>\n",
       "      <th>charges</th>\n",
       "    </tr>\n",
       "  </thead>\n",
       "  <tbody>\n",
       "    <tr>\n",
       "      <th>count</th>\n",
       "      <td>1338.000</td>\n",
       "      <td>1338.000</td>\n",
       "      <td>1338.000</td>\n",
       "      <td>1338.000</td>\n",
       "    </tr>\n",
       "    <tr>\n",
       "      <th>mean</th>\n",
       "      <td>39.207</td>\n",
       "      <td>30.663</td>\n",
       "      <td>1.095</td>\n",
       "      <td>13270.422</td>\n",
       "    </tr>\n",
       "    <tr>\n",
       "      <th>std</th>\n",
       "      <td>14.050</td>\n",
       "      <td>6.098</td>\n",
       "      <td>1.205</td>\n",
       "      <td>12110.012</td>\n",
       "    </tr>\n",
       "    <tr>\n",
       "      <th>min</th>\n",
       "      <td>18.000</td>\n",
       "      <td>15.960</td>\n",
       "      <td>0.000</td>\n",
       "      <td>1121.870</td>\n",
       "    </tr>\n",
       "    <tr>\n",
       "      <th>25%</th>\n",
       "      <td>27.000</td>\n",
       "      <td>26.296</td>\n",
       "      <td>0.000</td>\n",
       "      <td>4740.288</td>\n",
       "    </tr>\n",
       "    <tr>\n",
       "      <th>50%</th>\n",
       "      <td>39.000</td>\n",
       "      <td>30.400</td>\n",
       "      <td>1.000</td>\n",
       "      <td>9382.030</td>\n",
       "    </tr>\n",
       "    <tr>\n",
       "      <th>75%</th>\n",
       "      <td>51.000</td>\n",
       "      <td>34.694</td>\n",
       "      <td>2.000</td>\n",
       "      <td>16639.900</td>\n",
       "    </tr>\n",
       "    <tr>\n",
       "      <th>max</th>\n",
       "      <td>64.000</td>\n",
       "      <td>53.130</td>\n",
       "      <td>5.000</td>\n",
       "      <td>63770.400</td>\n",
       "    </tr>\n",
       "  </tbody>\n",
       "</table>\n",
       "</div>"
      ],
      "text/plain": [
       "           age      bmi  children   charges\n",
       "count 1338.000 1338.000  1338.000  1338.000\n",
       "mean    39.207   30.663     1.095 13270.422\n",
       "std     14.050    6.098     1.205 12110.012\n",
       "min     18.000   15.960     0.000  1121.870\n",
       "25%     27.000   26.296     0.000  4740.288\n",
       "50%     39.000   30.400     1.000  9382.030\n",
       "75%     51.000   34.694     2.000 16639.900\n",
       "max     64.000   53.130     5.000 63770.400"
      ]
     },
     "execution_count": 6,
     "metadata": {},
     "output_type": "execute_result"
    }
   ],
   "source": [
    "md_df.describe()"
   ]
  },
  {
   "cell_type": "code",
   "execution_count": 7,
   "metadata": {},
   "outputs": [
    {
     "name": "stdout",
     "output_type": "stream",
     "text": [
      "<class 'pandas.core.frame.DataFrame'>\n",
      "RangeIndex: 1338 entries, 0 to 1337\n",
      "Data columns (total 7 columns):\n",
      "age         1338 non-null int64\n",
      "sex         1338 non-null object\n",
      "bmi         1338 non-null float64\n",
      "children    1338 non-null int64\n",
      "smoker      1338 non-null object\n",
      "region      1338 non-null object\n",
      "charges     1338 non-null float64\n",
      "dtypes: float64(2), int64(2), object(3)\n",
      "memory usage: 57.6+ KB\n"
     ]
    }
   ],
   "source": [
    "md_df.info()"
   ]
  },
  {
   "cell_type": "code",
   "execution_count": 8,
   "metadata": {},
   "outputs": [
    {
     "data": {
      "text/html": [
       "<div>\n",
       "<style scoped>\n",
       "    .dataframe tbody tr th:only-of-type {\n",
       "        vertical-align: middle;\n",
       "    }\n",
       "\n",
       "    .dataframe tbody tr th {\n",
       "        vertical-align: top;\n",
       "    }\n",
       "\n",
       "    .dataframe thead th {\n",
       "        text-align: right;\n",
       "    }\n",
       "</style>\n",
       "<table border=\"1\" class=\"dataframe\">\n",
       "  <thead>\n",
       "    <tr style=\"text-align: right;\">\n",
       "      <th></th>\n",
       "      <th>Total</th>\n",
       "      <th>Percent</th>\n",
       "    </tr>\n",
       "  </thead>\n",
       "  <tbody>\n",
       "    <tr>\n",
       "      <th>charges</th>\n",
       "      <td>0</td>\n",
       "      <td>0.000</td>\n",
       "    </tr>\n",
       "    <tr>\n",
       "      <th>region</th>\n",
       "      <td>0</td>\n",
       "      <td>0.000</td>\n",
       "    </tr>\n",
       "    <tr>\n",
       "      <th>smoker</th>\n",
       "      <td>0</td>\n",
       "      <td>0.000</td>\n",
       "    </tr>\n",
       "    <tr>\n",
       "      <th>children</th>\n",
       "      <td>0</td>\n",
       "      <td>0.000</td>\n",
       "    </tr>\n",
       "    <tr>\n",
       "      <th>bmi</th>\n",
       "      <td>0</td>\n",
       "      <td>0.000</td>\n",
       "    </tr>\n",
       "    <tr>\n",
       "      <th>sex</th>\n",
       "      <td>0</td>\n",
       "      <td>0.000</td>\n",
       "    </tr>\n",
       "    <tr>\n",
       "      <th>age</th>\n",
       "      <td>0</td>\n",
       "      <td>0.000</td>\n",
       "    </tr>\n",
       "  </tbody>\n",
       "</table>\n",
       "</div>"
      ],
      "text/plain": [
       "          Total  Percent\n",
       "charges       0    0.000\n",
       "region        0    0.000\n",
       "smoker        0    0.000\n",
       "children      0    0.000\n",
       "bmi           0    0.000\n",
       "sex           0    0.000\n",
       "age           0    0.000"
      ]
     },
     "execution_count": 8,
     "metadata": {},
     "output_type": "execute_result"
    }
   ],
   "source": [
    "total_missing = md_df.isnull().sum().sort_values(ascending=False)\n",
    "percent_missing = (md_df.isnull().sum()/md_df.isnull().count()).sort_values(ascending=False)\n",
    "missing_data = pd.concat([total_missing, percent_missing], axis=1, keys=['Total', 'Percent'])\n",
    "missing_data.head(10)\n"
   ]
  },
  {
   "cell_type": "code",
   "execution_count": 9,
   "metadata": {},
   "outputs": [],
   "source": [
    "# Above, no missing data"
   ]
  },
  {
   "cell_type": "code",
   "execution_count": 10,
   "metadata": {},
   "outputs": [],
   "source": [
    "# in the past, we used is_male & is_smoker as features"
   ]
  },
  {
   "cell_type": "code",
   "execution_count": 11,
   "metadata": {},
   "outputs": [],
   "source": [
    "md_df[\"is_male\"]= pd.get_dummies(md_df.sex, drop_first = True)\n",
    "md_df[\"is_smoker\"]= pd.get_dummies(md_df.smoker, drop_first = True)"
   ]
  },
  {
   "cell_type": "code",
   "execution_count": 12,
   "metadata": {},
   "outputs": [
    {
     "name": "stdout",
     "output_type": "stream",
     "text": [
      "0       0\n",
      "1       1\n",
      "2       1\n",
      "3       1\n",
      "4       1\n",
      "       ..\n",
      "1333    1\n",
      "1334    0\n",
      "1335    0\n",
      "1336    0\n",
      "1337    0\n",
      "Name: is_male, Length: 1338, dtype: uint8\n"
     ]
    }
   ],
   "source": [
    "print(md_df[\"is_male\"])"
   ]
  },
  {
   "cell_type": "code",
   "execution_count": 13,
   "metadata": {},
   "outputs": [
    {
     "name": "stdout",
     "output_type": "stream",
     "text": [
      "0       1\n",
      "1       0\n",
      "2       0\n",
      "3       0\n",
      "4       0\n",
      "       ..\n",
      "1333    0\n",
      "1334    0\n",
      "1335    0\n",
      "1336    0\n",
      "1337    1\n",
      "Name: is_smoker, Length: 1338, dtype: uint8\n"
     ]
    }
   ],
   "source": [
    "print(md_df[\"is_smoker\"])"
   ]
  },
  {
   "cell_type": "code",
   "execution_count": 14,
   "metadata": {},
   "outputs": [
    {
     "data": {
      "text/plain": [
       "array([0.8607093 , 0.81401131, 0.80104219, 0.73010407, 0.84123034,\n",
       "       0.84414086, 0.82900496, 0.7764398 , 0.83723011, 0.86484908])"
      ]
     },
     "execution_count": 14,
     "metadata": {},
     "output_type": "execute_result"
    }
   ],
   "source": [
    "from sklearn import ensemble\n",
    "from sklearn.model_selection import cross_val_score\n",
    "\n",
    "#rfc = ensemble.RandomForestClassifier()\n",
    "rfc = ensemble.RandomForestRegressor()\n",
    "X = md_df.drop('charges',axis= 1)\n",
    "Y = md_df['charges']\n",
    "X = pd.get_dummies(X)\n",
    "X = X.dropna(axis=1)\n",
    "\n",
    "cross_val_score(rfc, X, Y, cv=10)"
   ]
  },
  {
   "cell_type": "code",
   "execution_count": 15,
   "metadata": {},
   "outputs": [],
   "source": [
    "# Next mode is Decision tree"
   ]
  },
  {
   "cell_type": "code",
   "execution_count": 16,
   "metadata": {},
   "outputs": [],
   "source": [
    "# Implementation Process\n",
    "# Separate the target variable\n",
    "#X = md_df.values[:,8:9]\n",
    "#Y = md_df.values[:,0]\n",
    "X = md_df[[\"is_male\", \"is_smoker\"]]\n",
    "Y = md_df[[\"charges\"]]"
   ]
  },
  {
   "cell_type": "code",
   "execution_count": 17,
   "metadata": {},
   "outputs": [],
   "source": [
    "# Split the dataset into Test & Train\n",
    "X_train, X_test, y_train, y_test = train_test_split(X,Y, test_size = 0.3, random_state = 100)"
   ]
  },
  {
   "cell_type": "code",
   "execution_count": 19,
   "metadata": {},
   "outputs": [
    {
     "data": {
      "text/plain": [
       "DecisionTreeRegressor(criterion='mse', max_depth=3, max_features=None,\n",
       "                      max_leaf_nodes=None, min_impurity_decrease=0.0,\n",
       "                      min_impurity_split=None, min_samples_leaf=5,\n",
       "                      min_samples_split=2, min_weight_fraction_leaf=0.0,\n",
       "                      presort=False, random_state=100, splitter='best')"
      ]
     },
     "execution_count": 19,
     "metadata": {},
     "output_type": "execute_result"
    }
   ],
   "source": [
    "# Function to perform training \n",
    "#clf_entropy = DecisionTreeRegressor(criterion='entropy', random_state = 100, max_depth=3,min_samples_leaf=5)\n",
    "from sklearn.tree import DecisionTreeRegressor\n",
    "clf = DecisionTreeRegressor( random_state = 100, max_depth=3, min_samples_leaf=5)\n",
    "clf.fit(X_train,y_train)"
   ]
  },
  {
   "cell_type": "code",
   "execution_count": 20,
   "metadata": {},
   "outputs": [
    {
     "name": "stdout",
     "output_type": "stream",
     "text": [
      "[ 8199.28903846  8805.72638462  8805.72638462  8805.72638462\n",
      " 34152.04803922 30301.40375     8199.28903846  8199.28903846\n",
      " 34152.04803922  8199.28903846  8199.28903846  8805.72638462\n",
      "  8199.28903846  8199.28903846  8199.28903846 34152.04803922\n",
      "  8805.72638462  8805.72638462  8199.28903846  8199.28903846\n",
      "  8199.28903846  8199.28903846  8199.28903846 34152.04803922\n",
      "  8805.72638462 30301.40375     8199.28903846 30301.40375\n",
      " 30301.40375     8805.72638462  8805.72638462  8805.72638462\n",
      " 30301.40375    34152.04803922  8199.28903846  8199.28903846\n",
      "  8199.28903846 34152.04803922  8199.28903846 30301.40375\n",
      "  8805.72638462  8805.72638462  8199.28903846  8805.72638462\n",
      "  8805.72638462  8805.72638462  8805.72638462  8199.28903846\n",
      "  8199.28903846  8805.72638462  8199.28903846  8805.72638462\n",
      "  8199.28903846  8199.28903846  8805.72638462  8805.72638462\n",
      "  8199.28903846 34152.04803922  8805.72638462  8199.28903846\n",
      "  8805.72638462  8805.72638462  8199.28903846  8805.72638462\n",
      "  8199.28903846  8805.72638462  8805.72638462  8805.72638462\n",
      "  8199.28903846 30301.40375     8805.72638462  8805.72638462\n",
      "  8199.28903846 34152.04803922  8805.72638462  8199.28903846\n",
      "  8199.28903846 30301.40375     8199.28903846  8805.72638462\n",
      "  8199.28903846  8199.28903846  8805.72638462  8805.72638462\n",
      " 34152.04803922 30301.40375     8199.28903846 30301.40375\n",
      " 34152.04803922  8805.72638462 34152.04803922  8805.72638462\n",
      "  8805.72638462  8199.28903846 30301.40375     8199.28903846\n",
      "  8199.28903846  8805.72638462 30301.40375     8199.28903846\n",
      "  8199.28903846  8805.72638462  8199.28903846  8199.28903846\n",
      " 34152.04803922  8805.72638462 34152.04803922 30301.40375\n",
      "  8199.28903846  8199.28903846  8805.72638462  8199.28903846\n",
      "  8805.72638462  8199.28903846 34152.04803922  8199.28903846\n",
      "  8199.28903846  8199.28903846  8805.72638462  8805.72638462\n",
      " 34152.04803922  8199.28903846  8805.72638462  8199.28903846\n",
      "  8199.28903846 34152.04803922  8199.28903846  8805.72638462\n",
      "  8199.28903846  8805.72638462  8805.72638462  8805.72638462\n",
      "  8199.28903846  8805.72638462  8199.28903846 34152.04803922\n",
      "  8805.72638462 34152.04803922  8199.28903846  8199.28903846\n",
      " 34152.04803922  8199.28903846 34152.04803922  8805.72638462\n",
      "  8199.28903846  8199.28903846  8199.28903846  8199.28903846\n",
      "  8199.28903846  8805.72638462  8805.72638462  8805.72638462\n",
      "  8805.72638462  8199.28903846  8805.72638462  8805.72638462\n",
      " 34152.04803922  8805.72638462  8805.72638462 34152.04803922\n",
      "  8199.28903846 34152.04803922 34152.04803922  8199.28903846\n",
      "  8805.72638462  8199.28903846  8199.28903846  8199.28903846\n",
      "  8805.72638462  8805.72638462 34152.04803922 30301.40375\n",
      "  8805.72638462 34152.04803922  8199.28903846  8805.72638462\n",
      "  8199.28903846 34152.04803922  8805.72638462  8805.72638462\n",
      " 30301.40375    30301.40375    34152.04803922  8199.28903846\n",
      "  8199.28903846 34152.04803922 34152.04803922  8199.28903846\n",
      "  8199.28903846  8805.72638462  8199.28903846  8805.72638462\n",
      "  8805.72638462  8199.28903846  8199.28903846  8805.72638462\n",
      " 30301.40375    34152.04803922  8199.28903846  8199.28903846\n",
      "  8199.28903846  8199.28903846  8199.28903846  8805.72638462\n",
      " 34152.04803922 34152.04803922  8805.72638462 34152.04803922\n",
      "  8805.72638462 30301.40375     8805.72638462  8199.28903846\n",
      " 34152.04803922 30301.40375     8199.28903846  8805.72638462\n",
      "  8199.28903846  8199.28903846  8199.28903846  8805.72638462\n",
      "  8805.72638462  8805.72638462  8199.28903846  8805.72638462\n",
      "  8805.72638462 34152.04803922  8805.72638462  8199.28903846\n",
      "  8805.72638462  8199.28903846  8805.72638462 34152.04803922\n",
      " 34152.04803922  8805.72638462  8199.28903846 30301.40375\n",
      "  8805.72638462  8199.28903846  8805.72638462  8199.28903846\n",
      "  8199.28903846  8805.72638462  8805.72638462 34152.04803922\n",
      "  8805.72638462  8805.72638462  8199.28903846  8805.72638462\n",
      "  8199.28903846  8199.28903846  8805.72638462  8805.72638462\n",
      "  8805.72638462  8199.28903846  8805.72638462 30301.40375\n",
      "  8199.28903846  8805.72638462 34152.04803922  8199.28903846\n",
      "  8805.72638462 34152.04803922  8805.72638462  8199.28903846\n",
      " 30301.40375     8805.72638462  8805.72638462  8199.28903846\n",
      " 30301.40375     8805.72638462  8805.72638462  8805.72638462\n",
      "  8805.72638462  8805.72638462 34152.04803922  8805.72638462\n",
      "  8805.72638462  8199.28903846 34152.04803922  8805.72638462\n",
      "  8199.28903846  8199.28903846  8805.72638462  8199.28903846\n",
      "  8805.72638462 34152.04803922  8805.72638462  8805.72638462\n",
      "  8199.28903846  8805.72638462  8805.72638462  8805.72638462\n",
      "  8199.28903846  8199.28903846  8199.28903846  8199.28903846\n",
      "  8805.72638462  8805.72638462  8805.72638462 34152.04803922\n",
      "  8805.72638462  8199.28903846  8805.72638462  8199.28903846\n",
      "  8199.28903846 34152.04803922  8805.72638462  8199.28903846\n",
      "  8199.28903846 34152.04803922  8199.28903846 30301.40375\n",
      "  8805.72638462  8199.28903846  8805.72638462  8805.72638462\n",
      " 34152.04803922  8805.72638462  8805.72638462  8199.28903846\n",
      "  8199.28903846 34152.04803922  8805.72638462 34152.04803922\n",
      "  8199.28903846  8199.28903846 30301.40375     8805.72638462\n",
      " 30301.40375     8805.72638462  8199.28903846  8805.72638462\n",
      " 30301.40375     8199.28903846  8199.28903846  8805.72638462\n",
      "  8199.28903846  8199.28903846  8199.28903846 30301.40375\n",
      "  8199.28903846  8805.72638462  8805.72638462  8805.72638462\n",
      " 30301.40375     8805.72638462  8805.72638462  8805.72638462\n",
      "  8805.72638462  8805.72638462  8199.28903846  8805.72638462\n",
      "  8199.28903846  8805.72638462  8805.72638462 30301.40375\n",
      "  8199.28903846 34152.04803922  8199.28903846  8805.72638462\n",
      " 30301.40375    30301.40375     8199.28903846 30301.40375\n",
      "  8199.28903846  8805.72638462  8805.72638462  8199.28903846\n",
      "  8805.72638462  8199.28903846 34152.04803922  8199.28903846\n",
      " 34152.04803922  8805.72638462  8199.28903846  8199.28903846\n",
      "  8805.72638462  8199.28903846 34152.04803922  8199.28903846\n",
      " 34152.04803922  8199.28903846  8199.28903846  8805.72638462\n",
      "  8199.28903846  8805.72638462 34152.04803922  8805.72638462\n",
      "  8199.28903846 34152.04803922  8805.72638462  8805.72638462\n",
      " 30301.40375     8199.28903846  8805.72638462  8805.72638462\n",
      " 30301.40375     8199.28903846  8199.28903846  8805.72638462\n",
      "  8199.28903846  8805.72638462]\n"
     ]
    }
   ],
   "source": [
    "# Lets apply our prediction to above model\n",
    "y_pred = clf.predict(X_test)\n",
    "print(y_pred)"
   ]
  },
  {
   "cell_type": "code",
   "execution_count": 21,
   "metadata": {},
   "outputs": [
    {
     "data": {
      "text/html": [
       "<div>\n",
       "<style scoped>\n",
       "    .dataframe tbody tr th:only-of-type {\n",
       "        vertical-align: middle;\n",
       "    }\n",
       "\n",
       "    .dataframe tbody tr th {\n",
       "        vertical-align: top;\n",
       "    }\n",
       "\n",
       "    .dataframe thead th {\n",
       "        text-align: right;\n",
       "    }\n",
       "</style>\n",
       "<table border=\"1\" class=\"dataframe\">\n",
       "  <thead>\n",
       "    <tr style=\"text-align: right;\">\n",
       "      <th></th>\n",
       "      <th>charges</th>\n",
       "    </tr>\n",
       "  </thead>\n",
       "  <tbody>\n",
       "    <tr>\n",
       "      <th>12</th>\n",
       "      <td>1826.840</td>\n",
       "    </tr>\n",
       "    <tr>\n",
       "      <th>306</th>\n",
       "      <td>20177.700</td>\n",
       "    </tr>\n",
       "    <tr>\n",
       "      <th>318</th>\n",
       "      <td>7421.190</td>\n",
       "    </tr>\n",
       "    <tr>\n",
       "      <th>815</th>\n",
       "      <td>1877.930</td>\n",
       "    </tr>\n",
       "    <tr>\n",
       "      <th>157</th>\n",
       "      <td>15518.200</td>\n",
       "    </tr>\n",
       "  </tbody>\n",
       "</table>\n",
       "</div>"
      ],
      "text/plain": [
       "      charges\n",
       "12   1826.840\n",
       "306 20177.700\n",
       "318  7421.190\n",
       "815  1877.930\n",
       "157 15518.200"
      ]
     },
     "execution_count": 21,
     "metadata": {},
     "output_type": "execute_result"
    }
   ],
   "source": [
    "y_test.head()"
   ]
  },
  {
   "cell_type": "code",
   "execution_count": 22,
   "metadata": {},
   "outputs": [
    {
     "data": {
      "text/plain": [
       "402"
      ]
     },
     "execution_count": 22,
     "metadata": {},
     "output_type": "execute_result"
    }
   ],
   "source": [
    "y_pred.size\n"
   ]
  },
  {
   "cell_type": "code",
   "execution_count": 23,
   "metadata": {},
   "outputs": [
    {
     "name": "stdout",
     "output_type": "stream",
     "text": [
      "Accuracy is  63.31393776985366\n"
     ]
    }
   ],
   "source": [
    "from sklearn.metrics import r2_score\n",
    "# Checking accuracy\n",
    "#r2_score(y_test, y_pred)\n",
    "print(\"Accuracy is \" , r2_score(y_test, y_pred)* 100)"
   ]
  },
  {
   "cell_type": "code",
   "execution_count": null,
   "metadata": {},
   "outputs": [],
   "source": []
  }
 ],
 "metadata": {
  "kernelspec": {
   "display_name": "Python 3",
   "language": "python",
   "name": "python3"
  },
  "language_info": {
   "codemirror_mode": {
    "name": "ipython",
    "version": 3
   },
   "file_extension": ".py",
   "mimetype": "text/x-python",
   "name": "python",
   "nbconvert_exporter": "python",
   "pygments_lexer": "ipython3",
   "version": "3.7.4"
  }
 },
 "nbformat": 4,
 "nbformat_minor": 2
}
